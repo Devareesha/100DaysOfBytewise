{
 "cells": [
  {
   "cell_type": "markdown",
   "id": "03bb4384-ac1e-45b0-8d0a-ff3dc527bc5e",
   "metadata": {},
   "source": [
    "Sum of two numbers "
   ]
  },
  {
   "cell_type": "code",
   "execution_count": 3,
   "id": "e9aeb4df-676c-452c-96e4-a4fb7f266c36",
   "metadata": {},
   "outputs": [
    {
     "name": "stdout",
     "output_type": "stream",
     "text": [
      "Enter numbers to add\n"
     ]
    },
    {
     "name": "stdin",
     "output_type": "stream",
     "text": [
      "Number 1: 9\n",
      "Number 2: 8\n"
     ]
    },
    {
     "name": "stdout",
     "output_type": "stream",
     "text": [
      "Sum =  17\n"
     ]
    }
   ],
   "source": [
    "print('Enter numbers to add')\n",
    "number1=int(input('Number 1:'))\n",
    "number2=int(input('Number 2:'))\n",
    "sum = number1 +  number2\n",
    "print('Sum = ', sum)"
   ]
  },
  {
   "cell_type": "markdown",
   "id": "a49dc729-60cc-4e1b-95aa-38acec9eefc1",
   "metadata": {},
   "source": [
    "Area of a Circle"
   ]
  },
  {
   "cell_type": "code",
   "execution_count": 4,
   "id": "ed1ab6ee-e61a-4f5c-bab1-d151a2ec20a2",
   "metadata": {},
   "outputs": [
    {
     "name": "stdin",
     "output_type": "stream",
     "text": [
      "Enter Radius:  8\n"
     ]
    },
    {
     "name": "stdout",
     "output_type": "stream",
     "text": [
      "Area of circle:  201.06192982974676\n"
     ]
    }
   ],
   "source": [
    "import math \n",
    "radius = float(input('Enter Radius: '))\n",
    "area = math.pi * pow(radius,2)\n",
    "print('Area of circle: ', area)"
   ]
  },
  {
   "cell_type": "markdown",
   "id": "5950c91f-8d51-481b-844f-678d29ba28e6",
   "metadata": {},
   "source": [
    "Even or Odd"
   ]
  },
  {
   "cell_type": "code",
   "execution_count": 7,
   "id": "928d324d-fa86-40a8-b7aa-92f7abff9088",
   "metadata": {},
   "outputs": [
    {
     "name": "stdin",
     "output_type": "stream",
     "text": [
      "Enter a number: 9\n"
     ]
    },
    {
     "name": "stdout",
     "output_type": "stream",
     "text": [
      "9 is odd\n"
     ]
    }
   ],
   "source": [
    "num = int(input('Enter a number:'))\n",
    "if((num % 2) == 0):\n",
    "    print(num,'is even')\n",
    "else:\n",
    "    print(num,'is odd')"
   ]
  },
  {
   "cell_type": "markdown",
   "id": "a76d96d1-bfa1-4f31-bb65-1e1100e966dc",
   "metadata": {},
   "source": [
    "Calculator "
   ]
  },
  {
   "cell_type": "code",
   "execution_count": 9,
   "id": "8ea9e4bb-cb96-46c5-9d7c-8ebd79f0105f",
   "metadata": {},
   "outputs": [
    {
     "name": "stdout",
     "output_type": "stream",
     "text": [
      "Enter numbers:\n"
     ]
    },
    {
     "name": "stdin",
     "output_type": "stream",
     "text": [
      "Number 1: 7\n",
      "Number 2: 8\n",
      "Enter operation to perform(+,-,*,/): *\n"
     ]
    },
    {
     "name": "stdout",
     "output_type": "stream",
     "text": [
      "Multiplication =  56\n"
     ]
    }
   ],
   "source": [
    "print('Enter numbers:')\n",
    "number1=int(input('Number 1:'))\n",
    "number2=int(input('Number 2:'))\n",
    "operation = input('Enter operation to perform(+,-,*,/):')\n",
    "if operation == '+':\n",
    "    sum = number1 +  number2\n",
    "    print('Sum = ', sum)\n",
    "elif operation == '-':\n",
    "    minus = number1 +  number2\n",
    "    print('Subtraction = ', minus)\n",
    "elif operation == '*':\n",
    "    multi = number1 *  number2\n",
    "    print('Multiplication = ', multi)\n",
    "elif operation == '/':\n",
    "    divide = number1 /  number2\n",
    "    print('Division = ', divide)\n",
    "else:\n",
    "    print('Enter valid operation')"
   ]
  },
  {
   "cell_type": "markdown",
   "id": "9226fee0-7df1-4d39-8112-34c45dc37d87",
   "metadata": {},
   "source": [
    "Largest Number "
   ]
  },
  {
   "cell_type": "code",
   "execution_count": 11,
   "id": "41c2c167-fb56-479f-a0c0-532dd4a8c13d",
   "metadata": {},
   "outputs": [
    {
     "name": "stdout",
     "output_type": "stream",
     "text": [
      "Enter numbers:\n"
     ]
    },
    {
     "name": "stdin",
     "output_type": "stream",
     "text": [
      "Number 1: 5\n",
      "Number 2: 45\n",
      "Number 3: 34\n"
     ]
    },
    {
     "name": "stdout",
     "output_type": "stream",
     "text": [
      "Largest Number =  45\n"
     ]
    }
   ],
   "source": [
    "print('Enter numbers:')\n",
    "number1=int(input('Number 1:'))\n",
    "number2=int(input('Number 2:'))\n",
    "number3=int(input('Number 3:'))\n",
    "largestno = max(number1, number2, number3)\n",
    "print('Largest Number = ', largestno)"
   ]
  },
  {
   "cell_type": "markdown",
   "id": "14c62670-366c-435d-b5a7-a5ec2cec0a75",
   "metadata": {},
   "source": [
    "Reverse a String"
   ]
  },
  {
   "cell_type": "code",
   "execution_count": 12,
   "id": "a1130d6a-dfc9-47d4-9d19-ffafb9cc6f76",
   "metadata": {},
   "outputs": [
    {
     "name": "stdin",
     "output_type": "stream",
     "text": [
      "Enter a string:  areesha\n"
     ]
    },
    {
     "name": "stdout",
     "output_type": "stream",
     "text": [
      "Reversed String:  ahseera\n"
     ]
    }
   ],
   "source": [
    "str = input('Enter a string: ') \n",
    "rev = str[::-1]\n",
    "print('Reversed String: ', rev)"
   ]
  },
  {
   "cell_type": "markdown",
   "id": "27e03c16-51eb-46db-9c73-901a82c03241",
   "metadata": {},
   "source": [
    "Count Vowels"
   ]
  },
  {
   "cell_type": "code",
   "execution_count": 14,
   "id": "754c1a5f-1246-45b1-8c6e-1fe196fac38f",
   "metadata": {},
   "outputs": [
    {
     "name": "stdin",
     "output_type": "stream",
     "text": [
      "Enter a string:  Hello this is Areesha\n"
     ]
    },
    {
     "name": "stdout",
     "output_type": "stream",
     "text": [
      "Total vowels: 8\n"
     ]
    }
   ],
   "source": [
    "str = input('Enter a string: ') \n",
    "vowel = 'aeiouAEIOU'\n",
    "count = 0\n",
    "for st in str:\n",
    "    if st in vowel:\n",
    "        count = count + 1\n",
    "print('Total vowels:', count)"
   ]
  },
  {
   "cell_type": "markdown",
   "id": "ebaba3b0-e34c-4245-aac5-437cd4f9c5c6",
   "metadata": {},
   "source": [
    "Fibonacci Sequence"
   ]
  },
  {
   "cell_type": "code",
   "execution_count": 20,
   "id": "f731f65b-2c3b-44da-bdc5-d371953f2293",
   "metadata": {},
   "outputs": [
    {
     "name": "stdin",
     "output_type": "stream",
     "text": [
      "Enter number of terms: 5\n"
     ]
    },
    {
     "name": "stdout",
     "output_type": "stream",
     "text": [
      "0\n",
      "1\n",
      "1\n",
      "2\n",
      "3\n"
     ]
    }
   ],
   "source": [
    "term=int(input('Enter number of terms:'))\n",
    "a = 0\n",
    "b = 1\n",
    "for i in range(term):\n",
    "    print(a)\n",
    "    next = a + b  \n",
    "    a = b             \n",
    "    b = next\n",
    "\n",
    "    "
   ]
  },
  {
   "cell_type": "markdown",
   "id": "1f80ac6b-228e-4c9f-827e-3a8c20e562e5",
   "metadata": {},
   "source": [
    "Check for Palindrome"
   ]
  },
  {
   "cell_type": "code",
   "execution_count": 21,
   "id": "467a7f1c-2884-4c7f-a012-d41fd581e4eb",
   "metadata": {},
   "outputs": [
    {
     "name": "stdin",
     "output_type": "stream",
     "text": [
      "Enter a string:  radar\n"
     ]
    },
    {
     "name": "stdout",
     "output_type": "stream",
     "text": [
      "Given string is a palindrome\n"
     ]
    }
   ],
   "source": [
    "str = input('Enter a string: ') \n",
    "rev = str[::-1]\n",
    "if str == rev:\n",
    "    print('Given string is a palindrome')\n",
    "else:\n",
    "    print('Given string is not a palindrome')"
   ]
  },
  {
   "cell_type": "code",
   "execution_count": null,
   "id": "af70ef6a-392f-4550-a739-f938542ed8bf",
   "metadata": {},
   "outputs": [],
   "source": []
  }
 ],
 "metadata": {
  "kernelspec": {
   "display_name": "Python 3 (ipykernel)",
   "language": "python",
   "name": "python3"
  },
  "language_info": {
   "codemirror_mode": {
    "name": "ipython",
    "version": 3
   },
   "file_extension": ".py",
   "mimetype": "text/x-python",
   "name": "python",
   "nbconvert_exporter": "python",
   "pygments_lexer": "ipython3",
   "version": "3.11.7"
  }
 },
 "nbformat": 4,
 "nbformat_minor": 5
}
