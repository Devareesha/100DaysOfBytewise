{
 "cells": [
  {
   "cell_type": "markdown",
   "id": "c7135460-ab66-46df-b956-1f28a6f9a07e",
   "metadata": {},
   "source": [
    "Quick Sort "
   ]
  },
  {
   "cell_type": "code",
   "execution_count": 3,
   "id": "2c7e8146-54a4-4dd8-b5ca-2a2326dc7719",
   "metadata": {},
   "outputs": [
    {
     "name": "stdout",
     "output_type": "stream",
     "text": [
      "[1, 1, 2, 3, 6, 8, 10]\n"
     ]
    }
   ],
   "source": [
    "def quickSort(array, leftmostIndex, rightmostIndex):\n",
    "    if leftmostIndex < rightmostIndex:\n",
    "        pivotIndex = partition(array, leftmostIndex, rightmostIndex)\n",
    "        quickSort(array, leftmostIndex, pivotIndex - 1)\n",
    "        quickSort(array, pivotIndex + 1, rightmostIndex)\n",
    "\n",
    "def partition(array, leftmostIndex, rightmostIndex):\n",
    "    pivotElement = array[rightmostIndex]\n",
    "    storeIndex = leftmostIndex\n",
    "    for i in range(leftmostIndex, rightmostIndex):\n",
    "        if array[i] < pivotElement:\n",
    "            array[storeIndex], array[i] = array[i], array[storeIndex]\n",
    "            storeIndex += 1\n",
    "    array[storeIndex], array[rightmostIndex] = array[rightmostIndex], array[storeIndex]\n",
    "    return storeIndex\n",
    "\n",
    "array = [3, 6, 8, 10, 1, 2, 1]\n",
    "quickSort(array, 0, len(array) - 1)\n",
    "print(array) \n"
   ]
  },
  {
   "cell_type": "markdown",
   "id": "497b1c50-b604-4e8d-8ae3-7eb85d218f28",
   "metadata": {},
   "source": [
    "Knapsack Problem"
   ]
  },
  {
   "cell_type": "code",
   "execution_count": 4,
   "id": "72d886e4-40c5-438d-97c6-40e8ccebecca",
   "metadata": {},
   "outputs": [
    {
     "name": "stdout",
     "output_type": "stream",
     "text": [
      "9\n"
     ]
    }
   ],
   "source": [
    "def knapSack(W, wt, val, n):\n",
    "    dp = [[0 for x in range(W + 1)] for x in range(n + 1)]\n",
    "    for i in range(n + 1):\n",
    "        for w in range(W + 1):\n",
    "            if i == 0 or w == 0:\n",
    "                dp[i][w] = 0\n",
    "            elif wt[i-1] <= w:\n",
    "                dp[i][w] = max(val[i-1] + dp[i-1][w-wt[i-1]], dp[i-1][w])\n",
    "            else:\n",
    "                dp[i][w] = dp[i-1][w]\n",
    "\n",
    "    return dp[n][W]\n",
    "\n",
    "if __name__ == '__main__':\n",
    "    profit = [1, 4, 5, 7]\n",
    "    weight = [1, 3, 4, 5]\n",
    "    W = 7\n",
    "    n = len(profit)\n",
    "    print(knapSack(W, weight, profit, n))  # Expected Output: 9\n"
   ]
  },
  {
   "cell_type": "markdown",
   "id": "7ae8ee70-e255-42af-b8f1-48e5f4d96c63",
   "metadata": {},
   "source": [
    "Graph Traversal (BFS and DFS)"
   ]
  },
  {
   "cell_type": "code",
   "execution_count": 5,
   "id": "7fdb98dd-cd2a-4e0a-a610-9dc7c8d592af",
   "metadata": {},
   "outputs": [
    {
     "name": "stdout",
     "output_type": "stream",
     "text": [
      "BFS starting from vertex 2: [2, 0, 3, 1]\n",
      "DFS starting from vertex 2: [2, 0, 1, 3]\n"
     ]
    }
   ],
   "source": [
    "from collections import deque\n",
    "\n",
    "def bfs(adjList, startNode):\n",
    "    visited = [False] * len(adjList)\n",
    "    q = deque()\n",
    "    bfs_result = []\n",
    "    visited[startNode] = True\n",
    "    q.append(startNode)\n",
    "\n",
    "    while q:\n",
    "        currentNode = q.popleft()\n",
    "        bfs_result.append(currentNode)\n",
    "        for neighbor in adjList[currentNode]:\n",
    "            if not visited[neighbor]:\n",
    "                visited[neighbor] = True\n",
    "                q.append(neighbor)\n",
    "\n",
    "    return bfs_result\n",
    "\n",
    "def dfs_util(adjList, node, visited, dfs_result):\n",
    "    visited[node] = True\n",
    "    dfs_result.append(node)\n",
    "    for neighbor in adjList[node]:\n",
    "        if not visited[neighbor]:\n",
    "            dfs_util(adjList, neighbor, visited, dfs_result)\n",
    "\n",
    "def dfs(adjList, startNode):\n",
    "    visited = [False] * len(adjList)\n",
    "    dfs_result = []\n",
    "    dfs_util(adjList, startNode, visited, dfs_result)\n",
    "\n",
    "    return dfs_result\n",
    "\n",
    "def addEdge(adjList, u, v):\n",
    "    adjList[u].append(v)\n",
    "\n",
    "if __name__ == '__main__':\n",
    "    vertices = 4\n",
    "\n",
    "    adjList = [[] for _ in range(vertices)]\n",
    "\n",
    "    # Add edges to the graph\n",
    "    addEdge(adjList, 0, 1)\n",
    "    addEdge(adjList, 0, 2)\n",
    "    addEdge(adjList, 1, 2)\n",
    "    addEdge(adjList, 2, 0)\n",
    "    addEdge(adjList, 2, 3)\n",
    "    addEdge(adjList, 3, 3)\n",
    "\n",
    "    print(\"BFS starting from vertex 2:\", bfs(adjList, 2))  \n",
    "\n",
    "    print(\"DFS starting from vertex 2:\", dfs(adjList, 2))  \n"
   ]
  },
  {
   "cell_type": "markdown",
   "id": "7d5af0ae-85b5-44dc-8d13-4543d545da03",
   "metadata": {},
   "source": [
    "Dijkstra's Algorithm"
   ]
  },
  {
   "cell_type": "code",
   "execution_count": 6,
   "id": "f38063f0-14dd-4137-a672-26e8b961b038",
   "metadata": {},
   "outputs": [
    {
     "name": "stdout",
     "output_type": "stream",
     "text": [
      "Shortest distances from node A: {'B': 1, 'D': 4, 'C': 3, 'A': 0}\n"
     ]
    }
   ],
   "source": [
    "import heapq\n",
    "\n",
    "class Graph:\n",
    "    def __init__(self):\n",
    "        self.nodes = set()\n",
    "        self.adjacency_list = {}\n",
    "\n",
    "    def add_edge(self, u, v, weight):\n",
    "        if u not in self.adjacency_list:\n",
    "            self.adjacency_list[u] = {}\n",
    "        if v not in self.adjacency_list:\n",
    "            self.adjacency_list[v] = {}\n",
    "        self.adjacency_list[u][v] = weight\n",
    "\n",
    "    def dijkstra(self, start):\n",
    "        # Initialize distances with infinity and set start node distance to 0\n",
    "        distances = {node: float('infinity') for node in self.nodes}\n",
    "        distances[start] = 0\n",
    "\n",
    "        # Priority queue to hold the nodes to be processed\n",
    "        priority_queue = [(0, start)]\n",
    "\n",
    "        while priority_queue:\n",
    "            current_distance, current_node = heapq.heappop(priority_queue)\n",
    "\n",
    "            # Nodes can only be processed once (optimization)\n",
    "            if current_distance > distances[current_node]:\n",
    "                continue\n",
    "\n",
    "            # Explore neighbors\n",
    "            for neighbor, weight in self.adjacency_list[current_node].items():\n",
    "                distance = current_distance + weight\n",
    "\n",
    "                # Only consider this new path if it's better\n",
    "                if distance < distances[neighbor]:\n",
    "                    distances[neighbor] = distance\n",
    "                    heapq.heappush(priority_queue, (distance, neighbor))\n",
    "\n",
    "        return distances\n",
    "\n",
    "# Driver code\n",
    "if __name__ == \"__main__\":\n",
    "    graph = Graph()\n",
    "    edges = [\n",
    "        ('A', 'B', 1),\n",
    "        ('A', 'C', 4),\n",
    "        ('B', 'C', 2),\n",
    "        ('B', 'D', 5),\n",
    "        ('C', 'D', 1)\n",
    "    ]\n",
    "\n",
    "    for u, v, weight in edges:\n",
    "        graph.add_edge(u, v, weight)\n",
    "        graph.nodes.add(u)\n",
    "        graph.nodes.add(v)\n",
    "\n",
    "    start_node = 'A'\n",
    "    distances = graph.dijkstra(start_node)\n",
    "    print(f\"Shortest distances from node {start_node}: {distances}\")\n"
   ]
  },
  {
   "cell_type": "markdown",
   "id": "813332ae-960f-4945-9fd9-26d8b7303201",
   "metadata": {},
   "source": [
    "Longest Common Subsequence (LCS)"
   ]
  },
  {
   "cell_type": "code",
   "execution_count": 7,
   "id": "301127b4-fd9a-45a2-9306-ddceb3d69e07",
   "metadata": {},
   "outputs": [
    {
     "name": "stdout",
     "output_type": "stream",
     "text": [
      "S1 : AGGTAB\n",
      "S2 : GXTXAYB\n",
      "LCS: GTAB\n"
     ]
    }
   ],
   "source": [
    "# Function to find LCS\n",
    "def lcs_algo(S1, S2):\n",
    "    m = len(S1)\n",
    "    n = len(S2)\n",
    "    L = [[0 for x in range(n+1)] for x in range(m+1)]\n",
    "\n",
    "    # Building the matrix in bottom-up way\n",
    "    for i in range(m+1):\n",
    "        for j in range(n+1):\n",
    "            if i == 0 or j == 0:\n",
    "                L[i][j] = 0\n",
    "            elif S1[i-1] == S2[j-1]:\n",
    "                L[i][j] = L[i-1][j-1] + 1\n",
    "            else:\n",
    "                L[i][j] = max(L[i-1][j], L[i][j-1])\n",
    "\n",
    "    # Following code is used to print LCS\n",
    "    index = L[m][n]\n",
    "    lcs_algo = [\"\"] * (index + 1)\n",
    "    lcs_algo[index] = \"\"\n",
    "\n",
    "    i = m\n",
    "    j = n\n",
    "    while i > 0 and j > 0:\n",
    "        if S1[i-1] == S2[j-1]:\n",
    "            lcs_algo[index-1] = S1[i-1]\n",
    "            i -= 1\n",
    "            j -= 1\n",
    "            index -= 1\n",
    "        elif L[i-1][j] > L[i][j-1]:\n",
    "            i -= 1\n",
    "        else:\n",
    "            j -= 1\n",
    "\n",
    "    # Printing the sub sequences\n",
    "    print(\"S1 : \" + S1 + \"\\nS2 : \" + S2)\n",
    "    print(\"LCS: \" + \"\".join(lcs_algo))\n",
    "\n",
    "# Test case\n",
    "S1 = \"AGGTAB\"\n",
    "S2 = \"GXTXAYB\"\n",
    "lcs_algo(S1, S2)\n"
   ]
  },
  {
   "cell_type": "code",
   "execution_count": null,
   "id": "1ea2941e-d2ee-4337-8036-7b6cc978faf1",
   "metadata": {},
   "outputs": [],
   "source": []
  }
 ],
 "metadata": {
  "kernelspec": {
   "display_name": "Python 3 (ipykernel)",
   "language": "python",
   "name": "python3"
  },
  "language_info": {
   "codemirror_mode": {
    "name": "ipython",
    "version": 3
   },
   "file_extension": ".py",
   "mimetype": "text/x-python",
   "name": "python",
   "nbconvert_exporter": "python",
   "pygments_lexer": "ipython3",
   "version": "3.11.7"
  }
 },
 "nbformat": 4,
 "nbformat_minor": 5
}
