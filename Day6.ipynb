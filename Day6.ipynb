{
 "cells": [
  {
   "cell_type": "markdown",
   "id": "66ac981d-0ecc-4304-83b9-911041f55e48",
   "metadata": {},
   "source": [
    " Load a simple dataset (e.g., the Iris dataset from Scikit-Learn) and print the first 5 rows."
   ]
  },
  {
   "cell_type": "code",
   "execution_count": 12,
   "id": "a2035a3f-f0ac-4f35-adec-8f78aceffa86",
   "metadata": {},
   "outputs": [
    {
     "name": "stdout",
     "output_type": "stream",
     "text": [
      "   sepal length (cm)  sepal width (cm)  petal length (cm)  petal width (cm)\n",
      "0                5.1               3.5                1.4               0.2\n",
      "1                4.9               3.0                1.4               0.2\n",
      "2                4.7               3.2                1.3               0.2\n",
      "3                4.6               3.1                1.5               0.2\n",
      "4                5.0               3.6                1.4               0.2\n"
     ]
    }
   ],
   "source": [
    "from sklearn.datasets import load_iris\n",
    "import pandas as pd\n",
    "\n",
    "dataset = load_iris()\n",
    "\n",
    "dataframe = pd.DataFrame(data=dataset.data, columns=dataset.feature_names)\n",
    "\n",
    "print(dataframe.head())\n"
   ]
  },
  {
   "cell_type": "markdown",
   "id": "f6cd41ef-2eac-4876-9263-26c644584794",
   "metadata": {},
   "source": [
    " Implement a function that takes a dataset and returns the number of features and samples.\n"
   ]
  },
  {
   "cell_type": "code",
   "execution_count": 15,
   "id": "b4a20ab8-dd3e-47b0-8c44-0b2cfc42e696",
   "metadata": {},
   "outputs": [
    {
     "name": "stdout",
     "output_type": "stream",
     "text": [
      "150 4\n"
     ]
    }
   ],
   "source": [
    "def dataset_info(dataset):\n",
    "    \n",
    "    samples = dataset.data.shape[0]\n",
    "    \n",
    "    features = dataset.data.shape[1]\n",
    "    \n",
    "    return samples, features\n",
    "\n",
    "samples, features = dataset_info(dataset)\n",
    "print(samples, features)\n"
   ]
  },
  {
   "cell_type": "markdown",
   "id": "b357e23b-71db-46fe-bc78-180546d0522a",
   "metadata": {},
   "source": [
    "Split a dataset into training and testing sets with an 80/20 split."
   ]
  },
  {
   "cell_type": "code",
   "execution_count": 17,
   "id": "13afcfc7-33f1-4adc-acad-5c710adb099e",
   "metadata": {},
   "outputs": [
    {
     "name": "stdout",
     "output_type": "stream",
     "text": [
      "(120, 4) (30, 4) (120,) (30,)\n"
     ]
    }
   ],
   "source": [
    "from sklearn.model_selection import train_test_split\n",
    "import pandas as pd\n",
    "from sklearn.datasets import load_iris\n",
    "\n",
    "dataset = load_iris()\n",
    "x = pd.DataFrame(data=dataset.data, columns=dataset.feature_names)\n",
    "y = pd.Series(dataset.target, name='target')\n",
    "\n",
    "X_train, X_test, y_train, y_test = train_test_split(x, y, test_size=0.2, random_state=9)\n",
    "\n",
    "print(X_train.shape, X_test.shape, y_train.shape, y_test.shape)\n"
   ]
  },
  {
   "cell_type": "markdown",
   "id": "e99f2db9-7c8a-40be-8761-195937fcd2bc",
   "metadata": {},
   "source": [
    " Explore the basic statistics of a dataset, such as mean, median, and standard deviation for each feature."
   ]
  },
  {
   "cell_type": "code",
   "execution_count": 18,
   "id": "855aff5b-0a4b-4676-996b-4649c05e0606",
   "metadata": {},
   "outputs": [
    {
     "name": "stdout",
     "output_type": "stream",
     "text": [
      "Mean:\n",
      " sepal length (cm)    5.843333\n",
      "sepal width (cm)     3.057333\n",
      "petal length (cm)    3.758000\n",
      "petal width (cm)     1.199333\n",
      "dtype: float64\n",
      "\n",
      "Median:\n",
      " sepal length (cm)    5.80\n",
      "sepal width (cm)     3.00\n",
      "petal length (cm)    4.35\n",
      "petal width (cm)     1.30\n",
      "dtype: float64\n",
      "\n",
      "Standard Deviation:\n",
      " sepal length (cm)    0.828066\n",
      "sepal width (cm)     0.435866\n",
      "petal length (cm)    1.765298\n",
      "petal width (cm)     0.762238\n",
      "dtype: float64\n"
     ]
    }
   ],
   "source": [
    "import pandas as pd\n",
    "from sklearn.datasets import load_iris\n",
    "\n",
    "dataset = load_iris()\n",
    "\n",
    "dataframe = pd.DataFrame(data=dataset.data, columns=dataset.feature_names)\n",
    "\n",
    "mean = dataframe.mean()\n",
    "median = dataframe.median()\n",
    "std_dev = dataframe.std()\n",
    "\n",
    "print(\"Mean:\\n\", mean)\n",
    "print(\"\\nMedian:\\n\", median)\n",
    "print(\"\\nStandard Deviation:\\n\", std_dev)\n"
   ]
  },
  {
   "cell_type": "markdown",
   "id": "d0751dea-b6b9-459e-97fa-b2fd9c8ce375",
   "metadata": {},
   "source": [
    "Visualize the distribution of one of the features in the dataset using a histogram."
   ]
  },
  {
   "cell_type": "code",
   "execution_count": 19,
   "id": "21ff4491-5b69-4411-9714-d61a8913d2d4",
   "metadata": {},
   "outputs": [
    {
     "data": {
      "image/png": "[encoded data removed]",
      "text/plain": [
       "<Figure size 640x480 with 1 Axes>"
      ]
     },
     "metadata": {},
     "output_type": "display_data"
    }
   ],
   "source": [
    "import pandas as pd\n",
    "import matplotlib.pyplot as plt\n",
    "from sklearn.datasets import load_iris\n",
    "\n",
    "dataset = load_iris()\n",
    "\n",
    "dataframe = pd.DataFrame(data=dataset.data, columns=dataset.feature_names)\n",
    "\n",
    "# Plot a histogram for the 'sepal length (cm)' feature\n",
    "plt.hist(dataframe['sepal length (cm)'], bins=20, edgecolor='red')\n",
    "plt.title('Distribution of Sepal Length (cm)')\n",
    "plt.xlabel('Sepal Length (cm)')\n",
    "plt.ylabel('Frequency')\n",
    "plt.grid(True)\n",
    "plt.show()"
   ]
  },
  {
   "cell_type": "markdown",
   "id": "592e3600-9047-4499-b5c3-0bb404374bbe",
   "metadata": {},
   "source": [
    "Write a Python script to create a list of 10 numbers and compute their mean."
   ]
  },
  {
   "cell_type": "code",
   "execution_count": 20,
   "id": "fe59dbe2-1e26-499d-bc24-c27ef9cb2bbb",
   "metadata": {},
   "outputs": [
    {
     "name": "stdout",
     "output_type": "stream",
     "text": [
      "List of numbers: [1, 50, 6, 25, 10, 30, 45, 16, 18, 20]\n",
      "Mean of the list: 22.1\n"
     ]
    }
   ],
   "source": [
    "import numpy as np\n",
    "\n",
    "numbers = [1, 50, 6, 25, 10, 30, 45, 16, 18, 20]\n",
    "\n",
    "mean = np.mean(numbers)\n",
    "\n",
    "print(\"List of numbers:\", numbers)\n",
    "print(\"Mean of the list:\", mean)"
   ]
  },
  {
   "cell_type": "markdown",
   "id": "4dbaf0b7-6072-4910-a7ab-8531432ffb87",
   "metadata": {},
   "source": [
    "Create a function that takes a list of numbers and returns a dictionary with the count, mean, median, and standard deviation."
   ]
  },
  {
   "cell_type": "code",
   "execution_count": 21,
   "id": "9ff05754-5a5b-4354-8878-c085510c6315",
   "metadata": {},
   "outputs": [
    {
     "name": "stdout",
     "output_type": "stream",
     "text": [
      "Statistics: {'count': 10, 'mean': 15.5, 'median': 15.5, 'std_dev': 8.511756575466665}\n"
     ]
    }
   ],
   "source": [
    "import numpy as np\n",
    "\n",
    "def compute_statistics(numbers):\n",
    "    stats = {\n",
    "        'count': len(numbers),\n",
    "        'mean': np.mean(numbers),\n",
    "        'median': np.median(numbers),\n",
    "        'std_dev': np.std(numbers)\n",
    "    }\n",
    "    return stats\n",
    "\n",
    "numbers = [2, 19, 6, 15, 10, 35, 14, 16, 18, 20]\n",
    "statistics = compute_statistics(numbers)\n",
    "\n",
    "print(\"Statistics:\", statistics)\n"
   ]
  },
  {
   "cell_type": "code",
   "execution_count": null,
   "id": "5d7aec1b-8d54-4779-b537-c3c8afdb4042",
   "metadata": {},
   "outputs": [],
   "source": [
    "Generate a 5x5 matrix of random numbers and print it"
   ]
  },
  {
   "cell_type": "code",
   "execution_count": 22,
   "id": "1e95213e-222a-4610-995f-2a2580ec003f",
   "metadata": {},
   "outputs": [
    {
     "name": "stdout",
     "output_type": "stream",
     "text": [
      "5x5 Matrix of Random Numbers:\n",
      " [[0.26282485 0.54232114 0.89283445 0.68720762 0.56474077]\n",
      " [0.07625804 0.0072488  0.61883763 0.31300834 0.78948472]\n",
      " [0.59506289 0.38271915 0.6387459  0.63922365 0.80303547]\n",
      " [0.13847089 0.36383978 0.81826483 0.05360817 0.1549421 ]\n",
      " [0.52137377 0.11325016 0.87479747 0.55666314 0.89841915]]\n"
     ]
    }
   ],
   "source": [
    "import numpy as np\n",
    "\n",
    "matrix = np.random.rand(5, 5)\n",
    "\n",
    "print(\"5x5 Matrix of Random Numbers:\\n\", matrix)\n"
   ]
  },
  {
   "cell_type": "markdown",
   "id": "c895f5c0-6044-4a00-890b-dfed9be4916f",
   "metadata": {},
   "source": [
    "Load a CSV file into a Pandas DataFrame and print summary statistics for each column."
   ]
  },
  {
   "cell_type": "code",
   "execution_count": 23,
   "id": "fedeb39a-d870-4d9c-8711-2cb8c22b4960",
   "metadata": {},
   "outputs": [
    {
     "name": "stdout",
     "output_type": "stream",
     "text": [
      "              Year  Selling_Price  Present_Price     Kms_Driven       Owner\n",
      "count   301.000000     301.000000     301.000000     301.000000  301.000000\n",
      "mean   2013.627907       4.661296       7.628472   36947.205980    0.043189\n",
      "std       2.891554       5.082812       8.644115   38886.883882    0.247915\n",
      "min    2003.000000       0.100000       0.320000     500.000000    0.000000\n",
      "25%    2012.000000       0.900000       1.200000   15000.000000    0.000000\n",
      "50%    2014.000000       3.600000       6.400000   32000.000000    0.000000\n",
      "75%    2016.000000       6.000000       9.900000   48767.000000    0.000000\n",
      "max    2018.000000      35.000000      92.600000  500000.000000    3.000000\n"
     ]
    }
   ],
   "source": [
    "import pandas as pd\n",
    "\n",
    "df = pd.read_csv('car data.csv')\n",
    "\n",
    "summary = df.describe()\n",
    "print(summary)"
   ]
  },
  {
   "cell_type": "markdown",
   "id": "cd93a692-7559-4fd8-a4ef-d03e61dce85b",
   "metadata": {},
   "source": [
    "Implement a simple linear regression model using Scikit-Learn and print the model coefficients"
   ]
  },
  {
   "cell_type": "code",
   "execution_count": 24,
   "id": "6f01545d-5881-4fba-a2f3-bf6d7e7920a1",
   "metadata": {},
   "outputs": [
    {
     "name": "stdout",
     "output_type": "stream",
     "text": [
      "Intercept: 1.5599999999999996\n",
      "Coefficient: 0.9200000000000003\n"
     ]
    }
   ],
   "source": [
    "import pandas as pd\n",
    "from sklearn.linear_model import LinearRegression\n",
    "\n",
    "data = {\n",
    "    'X': [1, 2, 3, 4, 5],\n",
    "    'Y': [2, 4.7, 3, 5.9, 6]\n",
    "}\n",
    "df = pd.DataFrame(data)\n",
    "\n",
    "X = df[['X']]\n",
    "Y = df['Y']\n",
    "\n",
    "model = LinearRegression()\n",
    "model.fit(X, Y)\n",
    "\n",
    "print(\"Intercept:\", model.intercept_)\n",
    "print(\"Coefficient:\", model.coef_[0])\n"
   ]
  },
  {
   "cell_type": "code",
   "execution_count": null,
   "id": "164c4aae-11a3-4f54-8820-7a3fda523491",
   "metadata": {},
   "outputs": [],
   "source": []
  }
 ],
 "metadata": {
  "kernelspec": {
   "display_name": "Python 3 (ipykernel)",
   "language": "python",
   "name": "python3"
  },
  "language_info": {
   "codemirror_mode": {
    "name": "ipython",
    "version": 3
   },
   "file_extension": ".py",
   "mimetype": "text/x-python",
   "name": "python",
   "nbconvert_exporter": "python",
   "pygments_lexer": "ipython3",
   "version": "3.11.7"
  }
 },
 "nbformat": 4,
 "nbformat_minor": 5
}
