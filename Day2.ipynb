{
 "cells": [
  {
   "cell_type": "markdown",
   "id": "2b7ada0c-9d32-4b14-9c3b-b8899871ac52",
   "metadata": {},
   "source": [
    "Palindrome Checker (Word)"
   ]
  },
  {
   "cell_type": "code",
   "execution_count": 2,
   "id": "0f8d0ae8-deb5-4cd7-9b90-e92b812f6089",
   "metadata": {},
   "outputs": [
    {
     "name": "stdin",
     "output_type": "stream",
     "text": [
      "Enter a string:  radar\n"
     ]
    },
    {
     "name": "stdout",
     "output_type": "stream",
     "text": [
      "Given string is a palindrome\n"
     ]
    }
   ],
   "source": [
    "str = input('Enter a string: ') \n",
    "rev = str[::-1]\n",
    "if str == rev:\n",
    "    print('Given string is a palindrome')\n",
    "else:\n",
    "    print('Given string is not a palindrome')"
   ]
  },
  {
   "cell_type": "markdown",
   "id": "e7b53478-b86d-4654-9800-287cd531960b",
   "metadata": {},
   "source": [
    "FizzBuzz"
   ]
  },
  {
   "cell_type": "code",
   "execution_count": 6,
   "id": "cd4f4333-8ad0-45bf-bb4b-eca4af1c176e",
   "metadata": {},
   "outputs": [
    {
     "name": "stdout",
     "output_type": "stream",
     "text": [
      "1\n",
      "2\n",
      "Fizz\n",
      "4\n",
      "Buzz\n",
      "Fizz\n",
      "7\n",
      "8\n",
      "Fizz\n",
      "Buzz\n",
      "11\n",
      "Fizz\n",
      "13\n",
      "14\n",
      "FizzBuzz\n",
      "16\n",
      "17\n",
      "Fizz\n",
      "19\n",
      "Buzz\n",
      "Fizz\n",
      "22\n",
      "23\n",
      "Fizz\n",
      "Buzz\n",
      "26\n",
      "Fizz\n",
      "28\n",
      "29\n",
      "FizzBuzz\n",
      "31\n",
      "32\n",
      "Fizz\n",
      "34\n",
      "Buzz\n",
      "Fizz\n",
      "37\n",
      "38\n",
      "Fizz\n",
      "Buzz\n",
      "41\n",
      "Fizz\n",
      "43\n",
      "44\n",
      "FizzBuzz\n",
      "46\n",
      "47\n",
      "Fizz\n",
      "49\n",
      "Buzz\n",
      "Fizz\n",
      "52\n",
      "53\n",
      "Fizz\n",
      "Buzz\n",
      "56\n",
      "Fizz\n",
      "58\n",
      "59\n",
      "FizzBuzz\n",
      "61\n",
      "62\n",
      "Fizz\n",
      "64\n",
      "Buzz\n",
      "Fizz\n",
      "67\n",
      "68\n",
      "Fizz\n",
      "Buzz\n",
      "71\n",
      "Fizz\n",
      "73\n",
      "74\n",
      "FizzBuzz\n",
      "76\n",
      "77\n",
      "Fizz\n",
      "79\n",
      "Buzz\n",
      "Fizz\n",
      "82\n",
      "83\n",
      "Fizz\n",
      "Buzz\n",
      "86\n",
      "Fizz\n",
      "88\n",
      "89\n",
      "FizzBuzz\n",
      "91\n",
      "92\n",
      "Fizz\n",
      "94\n",
      "Buzz\n",
      "Fizz\n",
      "97\n",
      "98\n",
      "Fizz\n"
     ]
    }
   ],
   "source": [
    "for i in range(1,100):\n",
    "    if (i % 3) == 0 and (i % 5) == 0:\n",
    "        print('FizzBuzz')\n",
    "    elif (i % 5) == 0:\n",
    "        print('Buzz')\n",
    "    elif (i % 3) == 0:\n",
    "        print('Fizz') \n",
    "    else:\n",
    "        print(i)"
   ]
  },
  {
   "cell_type": "markdown",
   "id": "4dfa7532-0944-4a3b-a226-a6dfa0db3f79",
   "metadata": {},
   "source": [
    "Nth Fibonacci Number"
   ]
  },
  {
   "cell_type": "code",
   "execution_count": 17,
   "id": "04739646-2348-4c83-ae3b-6bbfea623769",
   "metadata": {},
   "outputs": [
    {
     "name": "stdin",
     "output_type": "stream",
     "text": [
      "Enter number of terms: 10\n"
     ]
    },
    {
     "name": "stdout",
     "output_type": "stream",
     "text": [
      "The 10 Fibonacci number is 55\n"
     ]
    }
   ],
   "source": [
    "term=int(input('Enter number of terms:'))\n",
    "a = 0\n",
    "b = 1\n",
    "for i in range(term):\n",
    "    next = a + b \n",
    "    a = b\n",
    "    b = next\n",
    "\n",
    "print('The',term,'Fibonacci number is',a)"
   ]
  },
  {
   "cell_type": "markdown",
   "id": "c520311f-6a76-44e2-8714-e5d041a6ff5b",
   "metadata": {},
   "source": [
    "Prime Number Checker"
   ]
  },
  {
   "cell_type": "code",
   "execution_count": 34,
   "id": "ba6daa6b-b7bc-43e8-90dd-663d0664c4f3",
   "metadata": {},
   "outputs": [
    {
     "name": "stdin",
     "output_type": "stream",
     "text": [
      "Enter a number:  6\n"
     ]
    },
    {
     "name": "stdout",
     "output_type": "stream",
     "text": [
      "6  is not a prime number.\n"
     ]
    }
   ],
   "source": [
    "num = int(input(\"Enter a number: \"))\n",
    "\n",
    "prime = True\n",
    "\n",
    "if num <= 1:\n",
    "    prime = False\n",
    "elif num == 2:\n",
    "    prime = True\n",
    "else:\n",
    "    for i in range(2, int(num**0.5) + 1):\n",
    "        if num % i == 0:\n",
    "            prime = False\n",
    "            break\n",
    "\n",
    "if prime:\n",
    "    print(num,'is a prime number.')\n",
    "else:\n",
    "    print(num,' is not a prime number.')\n"
   ]
  },
  {
   "cell_type": "markdown",
   "id": "33090ec7-c40f-4972-9c5a-b99176f6c730",
   "metadata": {},
   "source": [
    " Guess the Number Game"
   ]
  },
  {
   "cell_type": "code",
   "execution_count": 19,
   "id": "c3b98cb5-8132-4b0a-b050-6d7e7ac93e73",
   "metadata": {},
   "outputs": [
    {
     "name": "stdin",
     "output_type": "stream",
     "text": [
      "Enter your guess(0-10):  8\n"
     ]
    },
    {
     "name": "stdout",
     "output_type": "stream",
     "text": [
      "Random number generated:  2\n",
      "Guess is high\n"
     ]
    }
   ],
   "source": [
    "import random \n",
    "\n",
    "guess = int(input('Enter your guess(0-10): '))\n",
    "rand = random.randint(0,10)\n",
    "print('Random number generated: ',rand)\n",
    "if guess == rand:\n",
    "    print('Correct')\n",
    "elif guess > rand:\n",
    "    print('Guess is high')\n",
    "else:\n",
    "    print('Guess is low')\n"
   ]
  },
  {
   "cell_type": "markdown",
   "id": "6f52e864-7311-4b6a-a4a2-7756cb5adad3",
   "metadata": {},
   "source": [
    "List Comprehension"
   ]
  },
  {
   "cell_type": "code",
   "execution_count": 21,
   "id": "b33e02d7-4f08-40c5-83bd-da298b30fef4",
   "metadata": {},
   "outputs": [
    {
     "name": "stdout",
     "output_type": "stream",
     "text": [
      "[1, 4, 9, 16, 25, 36, 49, 64, 81, 100]\n"
     ]
    }
   ],
   "source": [
    "\n",
    "sqr = [pow(x,2) for x in range(1, 11)]\n",
    "print(sqr)\n"
   ]
  },
  {
   "cell_type": "markdown",
   "id": "e602f78d-72e8-4cfa-a2ad-0c2097469153",
   "metadata": {},
   "source": [
    "Palindrome Sentences"
   ]
  },
  {
   "cell_type": "code",
   "execution_count": 27,
   "id": "aa0620d8-61aa-42ae-9c73-2ca5458e1daf",
   "metadata": {},
   "outputs": [
    {
     "name": "stdin",
     "output_type": "stream",
     "text": [
      "Enter a sentence:  A man, a plan, a canal: Panama\n"
     ]
    },
    {
     "name": "stdout",
     "output_type": "stream",
     "text": [
      "A man, a plan, a canal: Panama  is a palindrome.\n"
     ]
    }
   ],
   "source": [
    "import re\n",
    "\n",
    "str = input(\"Enter a sentence: \")\n",
    "rev = re.sub(r'[^A-Za-z0-9]', '', str).lower()\n",
    "\n",
    "if rev == rev[::-1]:\n",
    "    print(str,' is a palindrome.')\n",
    "else:\n",
    "    print(str, 'is not a palindrome.')"
   ]
  },
  {
   "cell_type": "markdown",
   "id": "54b1b528-a81b-45ba-8763-506085192c7f",
   "metadata": {},
   "source": [
    "Anagram Checker"
   ]
  },
  {
   "cell_type": "code",
   "execution_count": 31,
   "id": "286d24f9-40ba-4a74-b2fd-2799946973d4",
   "metadata": {},
   "outputs": [
    {
     "name": "stdin",
     "output_type": "stream",
     "text": [
      "Enter the first string:  listen\n",
      "Enter the second string:  silent\n"
     ]
    },
    {
     "name": "stdout",
     "output_type": "stream",
     "text": [
      "listen and silent  are anagrams.\n"
     ]
    }
   ],
   "source": [
    "string1 = input(\"Enter the first string: \")\n",
    "string2 = input(\"Enter the second string: \")\n",
    "\n",
    "sorted1 = sorted(string1.replace(\" \", \"\").lower())\n",
    "sorted2 = sorted(string2.replace(\" \", \"\").lower())\n",
    "\n",
    "if sorted1 == sorted2:\n",
    "    print(string1, 'and',string2,' are anagrams.')\n",
    "else:\n",
    "    print(string1, 'and',string2,' are not anagrams.')"
   ]
  },
  {
   "cell_type": "markdown",
   "id": "c88fd84f-414a-4f4f-b3f1-25e369f43fdd",
   "metadata": {},
   "source": [
    "Reverse Words in a Sentence"
   ]
  },
  {
   "cell_type": "code",
   "execution_count": 29,
   "id": "bb1ae57a-9f3d-469c-98aa-1433af96f414",
   "metadata": {},
   "outputs": [
    {
     "name": "stdin",
     "output_type": "stream",
     "text": [
      "Enter a sentence:  The quick brown fox jumps over the lazy dog.\n"
     ]
    },
    {
     "name": "stdout",
     "output_type": "stream",
     "text": [
      "dog. lazy the over jumps fox brown quick The\n"
     ]
    }
   ],
   "source": [
    "str = input(\"Enter a sentence: \")\n",
    "words = str.split()\n",
    "\n",
    "rev = words[::-1]\n",
    "rev = ' '.join(rev)\n",
    "\n",
    "print(rev)"
   ]
  },
  {
   "cell_type": "markdown",
   "id": "b7bb9bf7-0384-448f-a643-485abeef307f",
   "metadata": {},
   "source": [
    " Temperature Converter"
   ]
  },
  {
   "cell_type": "code",
   "execution_count": null,
   "id": "19e5d6a6-c62f-4b2c-8e7a-de66597e14a4",
   "metadata": {},
   "outputs": [],
   "source": [
    "temp = input(\"Enter the temperature (e.g., '20C', '68F', '293K'): \")\n",
    "\n",
    "temp_value = float(temp[:-1])\n",
    "temp_unit = temp[-1].upper()\n",
    "\n",
    "temp_celsius = temp_fahrenheit = temp_kelvin = None\n",
    "\n",
    "if temp_unit == 'C':\n",
    "    temp_celsius = temp_value\n",
    "    temp_fahrenheit = (temp_value * 9/5) + 32\n",
    "    temp_kelvin = temp_value + 273.15\n",
    "elif temp_unit == 'F':\n",
    "    temp_celsius = (temp_value - 32) * 5/9\n",
    "    temp_fahrenheit = temp_value\n",
    "    temp_kelvin = temp_celsius + 273.15\n",
    "elif temp_unit == 'K':\n",
    "    temp_celsius = temp_value - 273.15\n",
    "    temp_fahrenheit = (temp_celsius * 9/5) + 32\n",
    "    temp_kelvin = temp_value\n",
    "else:\n",
    "    print(\"Invalid temperature unit. Please enter C, F, or K.\")\n",
    "    exit()\n",
    "\n",
    "print(f\"{temp_value} degrees {temp_unit} is equal to {temp_celsius:.2f} degrees Celsius, {temp_fahrenheit:.2f} degrees Fahrenheit, and {temp_kelvin:.2f} degrees Kelvin.\")\n"
   ]
  }
 ],
 "metadata": {
  "kernelspec": {
   "display_name": "Python 3 (ipykernel)",
   "language": "python",
   "name": "python3"
  },
  "language_info": {
   "codemirror_mode": {
    "name": "ipython",
    "version": 3
   },
   "file_extension": ".py",
   "mimetype": "text/x-python",
   "name": "python",
   "nbconvert_exporter": "python",
   "pygments_lexer": "ipython3",
   "version": "3.11.7"
  }
 },
 "nbformat": 4,
 "nbformat_minor": 5
}
