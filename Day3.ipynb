{
 "cells": [
  {
   "cell_type": "markdown",
   "id": "880915c0-b17d-40d8-a64c-a54ee56b7ce8",
   "metadata": {},
   "source": [
    " Recursive Factorial"
   ]
  },
  {
   "cell_type": "code",
   "execution_count": 1,
   "id": "36e59ce2-3b64-483e-b3f8-ecb7c0b5bf66",
   "metadata": {},
   "outputs": [
    {
     "name": "stdin",
     "output_type": "stream",
     "text": [
      "Enter a number to calculate its factorial:  5\n"
     ]
    },
    {
     "name": "stdout",
     "output_type": "stream",
     "text": [
      "The factorial of 5 is 120\n"
     ]
    }
   ],
   "source": [
    "def factorial(n):\n",
    "    if n == 0 or n == 1:\n",
    "        return 1\n",
    "    else:\n",
    "        return n * factorial(n-1)\n",
    "        \n",
    "number = int(input('Enter a number to calculate its factorial: '))\n",
    "result = factorial(number)\n",
    "print('The factorial of', number, 'is', result)"
   ]
  },
  {
   "cell_type": "markdown",
   "id": "748dee16-64ea-4ff2-8b7e-8469e2706e7e",
   "metadata": {},
   "source": [
    "Palindrome Linked List"
   ]
  },
  {
   "cell_type": "code",
   "execution_count": 6,
   "id": "cf6a7e52-aa1a-44bf-ac9a-7e886ad8a804",
   "metadata": {},
   "outputs": [
    {
     "name": "stdout",
     "output_type": "stream",
     "text": [
      "The linked list 1 -> 2 -> 3 is a palindrome.\n",
      "The linked list 1 -> 2 -> 3 is not a palindrome.\n"
     ]
    }
   ],
   "source": [
    "class ListNode:\n",
    "    def __init__(self, val=0, next=None):\n",
    "        self.val = val\n",
    "        self.next = next\n",
    "\n",
    "def isPalindrome(head: ListNode) -> bool:\n",
    "    slow, fast = head, head\n",
    "    while fast and fast.next:\n",
    "        slow = slow.next\n",
    "        fast = fast.next.next\n",
    "\n",
    "    prev = None\n",
    "    while slow:\n",
    "        temp = slow.next\n",
    "        slow.next = prev\n",
    "        prev = slow\n",
    "        slow = temp\n",
    "\n",
    "    left, right = head, prev\n",
    "    while right:  \n",
    "        if left.val != right.val:\n",
    "            return False\n",
    "        left = left.next\n",
    "        right = right.next\n",
    "\n",
    "    return True\n",
    "\n",
    "def create_linked_list(elements):\n",
    "    if not elements:\n",
    "        return None\n",
    "    head = ListNode(elements[0])\n",
    "    current = head\n",
    "    for element in elements[1:]:\n",
    "        current.next = ListNode(element)\n",
    "        current = current.next\n",
    "    return head\n",
    "\n",
    "def print_linked_list(head: ListNode):\n",
    "    elements = []\n",
    "    current = head\n",
    "    while current:\n",
    "        elements.append(current.val)\n",
    "        current = current.next\n",
    "    return \" -> \".join(map(str, elements))\n",
    "\n",
    "list1 = create_linked_list([1, 2, 3, 2, 1])\n",
    "list2 = create_linked_list([1, 2, 3, 4, 5])\n",
    "\n",
    "if isPalindrome(list1):\n",
    "    print(\"The linked list\", print_linked_list(list1), \"is a palindrome.\")\n",
    "else:\n",
    "    print(\"The linked list\", print_linked_list(list1), \"is not a palindrome.\")\n",
    "\n",
    "if isPalindrome(list2):\n",
    "    print(\"The linked list\", print_linked_list(list2), \"is a palindrome.\")\n",
    "else:\n",
    "    print(\"The linked list\", print_linked_list(list2), \"is not a palindrome.\")\n"
   ]
  },
  {
   "cell_type": "markdown",
   "id": "7fdaccfd-339b-41a3-a3d8-0327e8c8da19",
   "metadata": {},
   "source": [
    "Merge Sorted Arrays\n"
   ]
  },
  {
   "cell_type": "code",
   "execution_count": 7,
   "id": "5f106c32-99c6-4e66-ae0b-b0b1ec42922b",
   "metadata": {},
   "outputs": [
    {
     "name": "stdout",
     "output_type": "stream",
     "text": [
      "Merged array: [1, 2, 3, 4, 5, 6]\n"
     ]
    }
   ],
   "source": [
    "def merge_sorted_arrays(arr1, arr2):\n",
    "    merged_array = []\n",
    "    i, j = 0, 0\n",
    "\n",
    "    while i < len(arr1) and j < len(arr2):\n",
    "        if arr1[i] < arr2[j]:\n",
    "            merged_array.append(arr1[i])\n",
    "            i += 1\n",
    "        else:\n",
    "            merged_array.append(arr2[j])\n",
    "            j += 1\n",
    "\n",
    "    while i < len(arr1):\n",
    "        merged_array.append(arr1[i])\n",
    "        i += 1\n",
    "\n",
    "    while j < len(arr2):\n",
    "        merged_array.append(arr2[j])\n",
    "        j += 1\n",
    "\n",
    "    return merged_array\n",
    "\n",
    "arr1 = [1, 3, 5]\n",
    "arr2 = [2, 4, 6]\n",
    "\n",
    "merged_result = merge_sorted_arrays(arr1, arr2)\n",
    "print(\"Merged array:\", merged_result) "
   ]
  },
  {
   "cell_type": "markdown",
   "id": "92c23068-19a5-46a5-97b0-c5e17281277a",
   "metadata": {},
   "source": [
    "Binary Search Tree"
   ]
  },
  {
   "cell_type": "code",
   "execution_count": 10,
   "id": "8981fe8a-bb26-4fd6-ad64-9dab63af62b2",
   "metadata": {},
   "outputs": [
    {
     "name": "stdout",
     "output_type": "stream",
     "text": [
      "Inorder traversal of the BST: [20, 30, 40, 50, 60, 70, 80]\n",
      "Key 40 found in the BST.\n",
      "BST after deleting key 30:\n",
      "Inorder traversal of the BST: [20, 40, 50, 60, 70, 80]\n"
     ]
    }
   ],
   "source": [
    "class TreeNode:\n",
    "    def __init__(self, key):\n",
    "        self.key = key\n",
    "        self.left = None\n",
    "        self.right = None\n",
    "\n",
    "class BST:\n",
    "    def __init__(self):\n",
    "        self.root = None\n",
    "\n",
    "    def insert(self, key):\n",
    "        self.root = self._insert_recursive(self.root, key)\n",
    "\n",
    "    def _insert_recursive(self, root, key):\n",
    "        # If the tree is empty, return a new node\n",
    "        if root is None:\n",
    "            return TreeNode(key)\n",
    "\n",
    "        if key < root.key:\n",
    "            root.left = self._insert_recursive(root.left, key)\n",
    "        elif key > root.key:\n",
    "            root.right = self._insert_recursive(root.right, key)\n",
    "\n",
    "        return root\n",
    "\n",
    "    def delete(self, key):\n",
    "        self.root = self._delete_recursive(self.root, key)\n",
    "\n",
    "    def _delete_recursive(self, root, key):\n",
    "        # Base Case: If the tree is empty\n",
    "        if root is None:\n",
    "            return root\n",
    "\n",
    "        if key < root.key:\n",
    "            root.left = self._delete_recursive(root.left, key)\n",
    "        elif key > root.key:\n",
    "            root.right = self._delete_recursive(root.right, key)\n",
    "        else:\n",
    "            # Node with only one child or no child\n",
    "            if root.left is None:\n",
    "                temp = root.right\n",
    "                root = None\n",
    "                return temp\n",
    "            elif root.right is None:\n",
    "                temp = root.left\n",
    "                root = None\n",
    "                return temp\n",
    "\n",
    "            temp = self._min_value_node(root.right)\n",
    "\n",
    "            root.key = temp.key\n",
    "\n",
    "            root.right = self._delete_recursive(root.right, temp.key)\n",
    "\n",
    "        return root\n",
    "\n",
    "    def _min_value_node(self, node):\n",
    "        current = node\n",
    "        while current.left is not None:\n",
    "            current = current.left\n",
    "        return current\n",
    "\n",
    "    def search(self, key):\n",
    "        return self._search_recursive(self.root, key)\n",
    "\n",
    "    def _search_recursive(self, root, key):\n",
    "        if root is None or root.key == key:\n",
    "            return root\n",
    "\n",
    "        if root.key < key:\n",
    "            return self._search_recursive(root.right, key)\n",
    "\n",
    "        return self._search_recursive(root.left, key)\n",
    "\n",
    "    def inorder_traversal(self):\n",
    "        return self._inorder_recursive(self.root)\n",
    "\n",
    "    def _inorder_recursive(self, root):\n",
    "        result = []\n",
    "        if root:\n",
    "            result.extend(self._inorder_recursive(root.left))\n",
    "            result.append(root.key)\n",
    "            result.extend(self._inorder_recursive(root.right))\n",
    "        return result\n",
    "\n",
    "def create_bst(keys):\n",
    "    bst = BST()\n",
    "    for key in keys:\n",
    "        bst.insert(key)\n",
    "    return bst\n",
    "\n",
    "keys = [50, 30, 20, 40, 70, 60, 80]\n",
    "bst = create_bst(keys)\n",
    "\n",
    "print(\"Inorder traversal of the BST:\", bst.inorder_traversal())\n",
    "\n",
    "search_key = 40\n",
    "result_node = bst.search(search_key)\n",
    "if result_node:\n",
    "    print(f\"Key {search_key} found in the BST.\")\n",
    "else:\n",
    "    print(f\"Key {search_key} not found in the BST.\")\n",
    "\n",
    "delete_key = 30\n",
    "bst.delete(delete_key)\n",
    "print(f\"BST after deleting key {delete_key}:\")\n",
    "print(\"Inorder traversal of the BST:\", bst.inorder_traversal())\n"
   ]
  },
  {
   "cell_type": "markdown",
   "id": "87e842c1-5525-4f9b-88f7-a5f956730303",
   "metadata": {},
   "source": [
    "Longest Palindromic Substring"
   ]
  },
  {
   "cell_type": "code",
   "execution_count": 11,
   "id": "24c0571f-5f24-4614-9c96-1789be9bcbe3",
   "metadata": {},
   "outputs": [
    {
     "name": "stdout",
     "output_type": "stream",
     "text": [
      "Longest palindromic substring in babad is: bab\n",
      "Longest palindromic substring in cbbd is: bb\n"
     ]
    }
   ],
   "source": [
    "def longest_palindromic_substring(s: str) -> str:\n",
    "    n = len(s)\n",
    "    if n < 2:\n",
    "        return s\n",
    "\n",
    "    dp = [[False] * n for _ in range(n)]\n",
    "\n",
    "    start, max_len = 0, 1\n",
    "\n",
    "    for i in range(n):\n",
    "        dp[i][i] = True\n",
    "\n",
    "    for i in range(n - 1):\n",
    "        if s[i] == s[i + 1]:\n",
    "            dp[i][i + 1] = True\n",
    "            start = i\n",
    "            max_len = 2\n",
    "\n",
    "    for length in range(3, n + 1):  \n",
    "        for i in range(n - length + 1):\n",
    "            j = i + length - 1\n",
    "            if s[i] == s[j] and dp[i + 1][j - 1]:\n",
    "                dp[i][j] = True\n",
    "                if length > max_len:\n",
    "                    start = i\n",
    "                    max_len = length\n",
    "\n",
    "    return s[start:start + max_len]\n",
    "\n",
    "input_str1 = \"babad\"\n",
    "input_str2 = \"cbbd\"\n",
    "\n",
    "print(\"Longest palindromic substring in\", input_str1, \"is:\", longest_palindromic_substring(input_str1))\n",
    "print(\"Longest palindromic substring in\", input_str2, \"is:\", longest_palindromic_substring(input_str2))\n"
   ]
  },
  {
   "cell_type": "markdown",
   "id": "7dc5dc82-2471-406e-9841-262e2ff2cd43",
   "metadata": {},
   "source": [
    "Merge Intervals"
   ]
  },
  {
   "cell_type": "code",
   "execution_count": 12,
   "id": "94a4b0e7-9550-4c27-9fe4-cbcdece0f308",
   "metadata": {},
   "outputs": [
    {
     "name": "stdout",
     "output_type": "stream",
     "text": [
      "Merged intervals: [(1, 6), (8, 10), (15, 18)]\n"
     ]
    }
   ],
   "source": [
    "def merge_intervals(intervals):\n",
    "    if not intervals:\n",
    "        return []\n",
    "\n",
    "    intervals.sort(key=lambda x: x[0])\n",
    "\n",
    "    merged_intervals = []\n",
    "    merged_interval = intervals[0]\n",
    "\n",
    "    for i in range(1, len(intervals)):\n",
    "        current_interval = intervals[i]\n",
    "\n",
    "        if current_interval[0] <= merged_interval[1]:\n",
    "            # Merge intervals\n",
    "            merged_interval = (merged_interval[0], max(merged_interval[1], current_interval[1]))\n",
    "        else:\n",
    "            merged_intervals.append(merged_interval)\n",
    "            merged_interval = current_interval\n",
    "    \n",
    "    merged_intervals.append(merged_interval)\n",
    "    \n",
    "    return merged_intervals\n",
    "\n",
    "intervals = [(1, 3), (2, 6), (8, 10), (15, 18)]\n",
    "print(\"Merged intervals:\", merge_intervals(intervals))  "
   ]
  },
  {
   "cell_type": "markdown",
   "id": "88023dce-2c57-4cf6-891f-bc908985ae26",
   "metadata": {},
   "source": [
    "Maximum Subarray"
   ]
  },
  {
   "cell_type": "code",
   "execution_count": 14,
   "id": "3d0ad59e-f7f9-4fe9-8279-69f5419db72f",
   "metadata": {},
   "outputs": [
    {
     "name": "stdout",
     "output_type": "stream",
     "text": [
      "Maximum sum of a contiguous subarray: 6\n"
     ]
    }
   ],
   "source": [
    "def max_subarray_sum(nums):\n",
    "    if not nums:\n",
    "        return 0\n",
    "    \n",
    "    max_sum = nums[0]\n",
    "    current_sum = nums[0]\n",
    "    \n",
    "    for num in nums[1:]:\n",
    "        current_sum = max(num, current_sum + num)\n",
    "        max_sum = max(max_sum, current_sum)\n",
    "    \n",
    "    return max_sum\n",
    "\n",
    "nums = [-2, 1, -3, 4, -1, 2, 1, -5, 4]\n",
    "print(\"Maximum sum of a contiguous subarray:\", max_subarray_sum(nums)) \n"
   ]
  },
  {
   "cell_type": "markdown",
   "id": "6d4efd18-d273-415e-850d-93b2d942375a",
   "metadata": {},
   "source": [
    "Reverse Linked List"
   ]
  },
  {
   "cell_type": "code",
   "execution_count": 15,
   "id": "57eb116b-976a-476a-9c45-e28c51a6a621",
   "metadata": {},
   "outputs": [
    {
     "name": "stdout",
     "output_type": "stream",
     "text": [
      "Original linked list:\n",
      "1 -> 2 -> 3 -> 4 -> 5 -> None\n",
      "Reversed linked list:\n",
      "5 -> 4 -> 3 -> 2 -> 1 -> None\n"
     ]
    }
   ],
   "source": [
    "class ListNode:\n",
    "    def __init__(self, val=0, next=None):\n",
    "        self.val = val\n",
    "        self.next = next\n",
    "\n",
    "def reverse_linked_list(head: ListNode) -> ListNode:\n",
    "    prev = None\n",
    "    current = head\n",
    "    \n",
    "    while current:\n",
    "        next_node = current.next\n",
    "        current.next = prev\n",
    "        prev = current\n",
    "        current = next_node\n",
    "    \n",
    "    return prev\n",
    "\n",
    "def print_linked_list(head):\n",
    "    current = head\n",
    "    while current:\n",
    "        print(current.val, end=\" -> \")\n",
    "        current = current.next\n",
    "    print(\"None\")\n",
    "\n",
    "head = ListNode(1)\n",
    "head.next = ListNode(2)\n",
    "head.next.next = ListNode(3)\n",
    "head.next.next.next = ListNode(4)\n",
    "head.next.next.next.next = ListNode(5)\n",
    "\n",
    "print(\"Original linked list:\")\n",
    "print_linked_list(head)\n",
    "\n",
    "reversed_head = reverse_linked_list(head)\n",
    "\n",
    "print(\"Reversed linked list:\")\n",
    "print_linked_list(reversed_head)\n"
   ]
  },
  {
   "cell_type": "markdown",
   "id": "17e477be-f6ca-4a94-8677-2694307121ea",
   "metadata": {},
   "source": [
    "Minimum Edit Distance"
   ]
  },
  {
   "cell_type": "code",
   "execution_count": 16,
   "id": "af2d3b3f-22a9-4870-8198-985fcb831244",
   "metadata": {},
   "outputs": [
    {
     "name": "stdout",
     "output_type": "stream",
     "text": [
      "Minimum edit distance between kitten and sitting is: 3\n"
     ]
    }
   ],
   "source": [
    "def min_distance(word1: str, word2: str) -> int:\n",
    "    m, n = len(word1), len(word2)\n",
    "\n",
    "    dp = [[0] * (n + 1) for _ in range(m + 1)]\n",
    "    \n",
    "    for i in range(1, m + 1):\n",
    "        dp[i][0] = i  \n",
    "    \n",
    "    for j in range(1, n + 1):\n",
    "        dp[0][j] = j  \n",
    "    \n",
    "    # Fill the dp table\n",
    "    for i in range(1, m + 1):\n",
    "        for j in range(1, n + 1):\n",
    "            if word1[i - 1] == word2[j - 1]:\n",
    "                dp[i][j] = dp[i - 1][j - 1] \n",
    "            else:\n",
    "                dp[i][j] = 1 + min(dp[i - 1][j],    \n",
    "                                   dp[i][j - 1],   \n",
    "                                   dp[i - 1][j - 1]  \n",
    "                                  ) \n",
    "    return dp[m][n]\n",
    "\n",
    "word1 = \"kitten\"\n",
    "word2 = \"sitting\"\n",
    "print(\"Minimum edit distance between\", word1, \"and\", word2, \"is:\", min_distance(word1, word2))  # Output: 3\n"
   ]
  },
  {
   "cell_type": "markdown",
   "id": "2cdfaf40-47b1-4566-97b8-1038d920eb72",
   "metadata": {},
   "source": [
    " Boggle Game"
   ]
  },
  {
   "cell_type": "code",
   "execution_count": 17,
   "id": "09ad9024-f1a4-46f3-95d6-177359b7699b",
   "metadata": {},
   "outputs": [
    {
     "name": "stdout",
     "output_type": "stream",
     "text": [
      "Words found in the Boggle board:\n",
      "oath\n",
      "eat\n"
     ]
    }
   ],
   "source": [
    "class TrieNode:\n",
    "    def __init__(self):\n",
    "        self.children = {}\n",
    "        self.is_end_of_word = False\n",
    "\n",
    "class Trie:\n",
    "    def __init__(self):\n",
    "        self.root = TrieNode()\n",
    "    \n",
    "    def insert(self, word):\n",
    "        node = self.root\n",
    "        for char in word:\n",
    "            if char not in node.children:\n",
    "                node.children[char] = TrieNode()\n",
    "            node = node.children[char]\n",
    "        node.is_end_of_word = True\n",
    "    \n",
    "    def search(self, word):\n",
    "        node = self.root\n",
    "        for char in word:\n",
    "            if char not in node.children:\n",
    "                return False\n",
    "            node = node.children[char]\n",
    "        return node.is_end_of_word\n",
    "\n",
    "class BoggleSolver:\n",
    "    def __init__(self, board, dictionary):\n",
    "        self.board = board\n",
    "        self.rows = len(board)\n",
    "        self.cols = len(board[0])\n",
    "        self.dictionary = Trie()\n",
    "        self.visited = [[False] * self.cols for _ in range(self.rows)]\n",
    "        self.found_words = set()\n",
    "\n",
    "        for word in dictionary:\n",
    "            self.dictionary.insert(word)\n",
    "    \n",
    "    def find_words(self):\n",
    "        for i in range(self.rows):\n",
    "            for j in range(self.cols):\n",
    "                self.dfs(i, j, \"\")\n",
    "        return list(self.found_words)\n",
    "    \n",
    "    def dfs(self, row, col, current_word):\n",
    "        if row < 0 or row >= self.rows or col < 0 or col >= self.cols or self.visited[row][col]:\n",
    "            return\n",
    "        current_word += self.board[row][col]\n",
    "\n",
    "        if not self.dictionary_starts_with(current_word):\n",
    "            return\n",
    "        if self.dictionary.search(current_word):\n",
    "            self.found_words.add(current_word)\n",
    "        \n",
    "        self.visited[row][col] = True\n",
    "  \n",
    "        directions = [(-1, 0), (1, 0), (0, -1), (0, 1), (-1, -1), (-1, 1), (1, -1), (1, 1)]\n",
    "        for dr, dc in directions:\n",
    "            self.dfs(row + dr, col + dc, current_word)\n",
    "\n",
    "        self.visited[row][col] = False\n",
    "    \n",
    "    def dictionary_starts_with(self, prefix):\n",
    "        node = self.dictionary.root\n",
    "        for char in prefix:\n",
    "            if char not in node.children:\n",
    "                return False\n",
    "            node = node.children[char]\n",
    "        return True\n",
    "\n",
    "\n",
    "board = [\n",
    "    ['o', 'a', 'a', 'n'],\n",
    "    ['e', 't', 'a', 'e'],\n",
    "    ['i', 'h', 'k', 'r'],\n",
    "    ['i', 'f', 'l', 'v']\n",
    "]\n",
    "\n",
    "dictionary = [\"oath\", \"pea\", \"eat\", \"rain\"]\n",
    "\n",
    "solver = BoggleSolver(board, dictionary)\n",
    "found_words = solver.find_words()\n",
    "\n",
    "print(\"Words found in the Boggle board:\")\n",
    "for word in found_words:\n",
    "    print(word)\n"
   ]
  },
  {
   "cell_type": "code",
   "execution_count": null,
   "id": "5a061566-34d8-477c-a3d7-8fea79ea93da",
   "metadata": {},
   "outputs": [],
   "source": []
  }
 ],
 "metadata": {
  "kernelspec": {
   "display_name": "Python 3 (ipykernel)",
   "language": "python",
   "name": "python3"
  },
  "language_info": {
   "codemirror_mode": {
    "name": "ipython",
    "version": 3
   },
   "file_extension": ".py",
   "mimetype": "text/x-python",
   "name": "python",
   "nbconvert_exporter": "python",
   "pygments_lexer": "ipython3",
   "version": "3.11.7"
  }
 },
 "nbformat": 4,
 "nbformat_minor": 5
}
